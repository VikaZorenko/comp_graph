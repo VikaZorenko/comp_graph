{
 "cells": [
  {
   "cell_type": "code",
   "execution_count": 1,
   "metadata": {},
   "outputs": [],
   "source": [
    "import numpy as np\n",
    "import matplotlib.pyplot as plt\n",
    "from PIL import Image\n",
    "import math"
   ]
  },
  {
   "cell_type": "code",
   "execution_count": 2,
   "metadata": {},
   "outputs": [],
   "source": [
    "def translate(oldxy, dxdy):\n",
    "    x, y = oldxy\n",
    "    dx, dy = dxdy\n",
    "    \n",
    "    tr_matrix = np.array([\n",
    "        [1, 0, dx],\n",
    "        [1, 0, dy],\n",
    "        [0, 0, 1]\n",
    "    ])\n",
    "    \n",
    "    xy1 = np.array([x, y, 1]).T\n",
    "    \n",
    "    res = tr_matrix.dot(xy1).T\n",
    "    \n",
    "    return res[:2]"
   ]
  },
  {
   "cell_type": "code",
   "execution_count": 3,
   "metadata": {},
   "outputs": [
    {
     "data": {
      "text/plain": [
       "array([2, 3])"
      ]
     },
     "execution_count": 3,
     "metadata": {},
     "output_type": "execute_result"
    }
   ],
   "source": [
    "translate((1, 2), (1, 2))"
   ]
  },
  {
   "cell_type": "code",
   "execution_count": 4,
   "metadata": {},
   "outputs": [],
   "source": [
    "def scale(oldxy, scalexy):\n",
    "    x, y = oldxy\n",
    "    sx, sy = scalexy\n",
    "    \n",
    "    tr_matrix = np.array([\n",
    "        [sx, 0, 0],\n",
    "        [0, sy, 0],\n",
    "        [0, 0, 1]\n",
    "    ])\n",
    "    \n",
    "    xy1 = np.array([x, y, 1]).T\n",
    "    \n",
    "    res = tr_matrix.dot(xy1).T\n",
    "    \n",
    "    return res[:2]"
   ]
  },
  {
   "cell_type": "code",
   "execution_count": 5,
   "metadata": {},
   "outputs": [
    {
     "data": {
      "text/plain": [
       "array([ 1, 10])"
      ]
     },
     "execution_count": 5,
     "metadata": {},
     "output_type": "execute_result"
    }
   ],
   "source": [
    "scale((1, 5), (1, 2))"
   ]
  },
  {
   "cell_type": "code",
   "execution_count": 6,
   "metadata": {},
   "outputs": [],
   "source": [
    "def rotate(xy, deg):\n",
    "    x, y = xy\n",
    "    \n",
    "    tr_matrix = np.array([\n",
    "        [math.cos(deg), math.sin(deg), 0],\n",
    "        [-math.sin(deg), math.cos(deg), 0],\n",
    "        [0, 0, 1]\n",
    "    ])\n",
    "    \n",
    "    xy1 = np.array([x, y, 1]).T\n",
    "    \n",
    "    res = tr_matrix.dot(xy1).T\n",
    "    \n",
    "    return res[:2]"
   ]
  },
  {
   "cell_type": "code",
   "execution_count": 7,
   "metadata": {},
   "outputs": [
    {
     "data": {
      "text/plain": [
       "array([0, 1], dtype=uint64)"
      ]
     },
     "execution_count": 7,
     "metadata": {},
     "output_type": "execute_result"
    }
   ],
   "source": [
    "rotate((1, 0), -math.pi / 2).astype('uint64')"
   ]
  },
  {
   "cell_type": "code",
   "execution_count": 8,
   "metadata": {},
   "outputs": [],
   "source": [
    "def sheer(xy, shxshy):\n",
    "    x, y = xy\n",
    "    shx, shy = shxshy\n",
    "    \n",
    "    tr_matrix = np.array([\n",
    "        [1, shx, 0],\n",
    "        [shy, 1, 0],\n",
    "        [0, 0, 1]\n",
    "    ])\n",
    "    \n",
    "    xy1 = np.array([x, y, 1]).T\n",
    "    \n",
    "    res = tr_matrix.dot(xy1).T\n",
    "    \n",
    "    return res[:2]"
   ]
  },
  {
   "cell_type": "code",
   "execution_count": 9,
   "metadata": {},
   "outputs": [
    {
     "data": {
      "text/plain": [
       "array([21, 31])"
      ]
     },
     "execution_count": 9,
     "metadata": {},
     "output_type": "execute_result"
    }
   ],
   "source": [
    "sheer((10, 11), (1, 2))"
   ]
  },
  {
   "cell_type": "code",
   "execution_count": null,
   "metadata": {},
   "outputs": [],
   "source": []
  }
 ],
 "metadata": {
  "kernelspec": {
   "display_name": "Python 3",
   "language": "python",
   "name": "python3"
  },
  "language_info": {
   "codemirror_mode": {
    "name": "ipython",
    "version": 3
   },
   "file_extension": ".py",
   "mimetype": "text/x-python",
   "name": "python",
   "nbconvert_exporter": "python",
   "pygments_lexer": "ipython3",
   "version": "3.7.5"
  }
 },
 "nbformat": 4,
 "nbformat_minor": 2
}
